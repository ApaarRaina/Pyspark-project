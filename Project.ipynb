{
 "cells": [
  {
   "cell_type": "markdown",
   "metadata": {
    "application/vnd.databricks.v1+cell": {
     "cellMetadata": {
      "byteLimit": 2048000,
      "rowLimit": 10000
     },
     "inputWidgets": {},
     "nuid": "508f8b02-8626-49c6-bab3-22723e301b9a",
     "showTitle": false,
     "tableResultSettingsMap": {},
     "title": ""
    }
   },
   "source": [
    "# Pyspark EDA"
   ]
  },
  {
   "cell_type": "code",
   "execution_count": 0,
   "metadata": {
    "application/vnd.databricks.v1+cell": {
     "cellMetadata": {
      "byteLimit": 2048000,
      "rowLimit": 10000
     },
     "inputWidgets": {},
     "nuid": "265ab63d-a76c-497b-a1a6-ce9a33e58e3b",
     "showTitle": false,
     "tableResultSettingsMap": {},
     "title": ""
    }
   },
   "outputs": [],
   "source": [
    "from pyspark.sql.functions import col, avg, sum, count, desc, isnan, when, mean, stddev"
   ]
  },
  {
   "cell_type": "markdown",
   "metadata": {
    "application/vnd.databricks.v1+cell": {
     "cellMetadata": {
      "byteLimit": 2048000,
      "rowLimit": 10000
     },
     "inputWidgets": {},
     "nuid": "74299762-3f40-4c19-a4f4-741d41299b06",
     "showTitle": false,
     "tableResultSettingsMap": {},
     "title": ""
    }
   },
   "source": [
    "### Loading in the **files**"
   ]
  },
  {
   "cell_type": "code",
   "execution_count": 0,
   "metadata": {
    "application/vnd.databricks.v1+cell": {
     "cellMetadata": {
      "byteLimit": 2048000,
      "rowLimit": 10000
     },
     "inputWidgets": {},
     "nuid": "8db33e3a-0cc0-420e-9233-5ca4fef9f887",
     "showTitle": false,
     "tableResultSettingsMap": {},
     "title": ""
    }
   },
   "outputs": [
    {
     "output_type": "stream",
     "name": "stdout",
     "output_type": "stream",
     "text": [
      "+----------+------------+--------------+------+--------------------+\n|product_id|product_name|      category| price|         description|\n+----------+------------+--------------+------+--------------------+\n|      P001|         One|   Electronics|159.33|Detail should act...|\n|      P002|     Citizen|         Books|330.27|Detail respond ri...|\n|      P003|   Beautiful|   Electronics|442.61|Mission pattern g...|\n|      P004|      Father|       Apparel|  87.2|Another produce t...|\n|      P005|    Research|       Apparel|183.51|Eight role above ...|\n|      P006|        From|       Apparel|474.18|Dark major seat w...|\n|      P007|       Power|   Electronics|190.35|Four base easy mi...|\n|      P008|         Win|Home & Kitchen|382.67|Camera already ov...|\n|      P009|      Center|   Electronics| 350.8|Senior trip whose...|\n|      P010|       Movie|Home & Kitchen|272.24|Single amount wif...|\n|      P011|       Occur|       Apparel|174.13|    Term join catch.|\n|      P012|         Yet|         Books|174.08|Party energy spee...|\n|      P013|     Evening|       Apparel|360.27|College similar f...|\n|      P014|Organization|         Books|275.09|Sea state station...|\n|      P015|      Listen|       Apparel| 408.4|To quality second...|\n|      P016|        City|Home & Kitchen|371.73|Give little dog v...|\n|      P017|       After|         Books|191.32|Pm deal successfu...|\n|      P018|         Yes|Home & Kitchen|304.99|Great enough by w...|\n|      P019|    Business|   Electronics| 47.57|Discover week per...|\n|      P020|     Science|   Electronics|147.27|Peace individual ...|\n+----------+------------+--------------+------+--------------------+\n\n+--------------+-----------+----------+--------+----------+--------+----------+----------------+\n|transaction_id|customer_id|product_id| channel|order_date|quantity|unit_price|campaign_applied|\n+--------------+-----------+----------+--------+----------+--------+----------+----------------+\n|         T0001|       C048|      P010|  mobile|2025-02-06|       1|    272.24|               1|\n|         T0002|       C037|      P017|in-store|2025-01-04|       1|    191.32|               0|\n|         T0003|       C013|      P007|in-store|2025-02-02|       1|    190.35|               0|\n|         T0004|       C016|      P015|  mobile|2025-05-01|       4|     408.4|               0|\n|         T0005|       C004|      P007|  mobile|2025-01-05|       1|    190.35|               0|\n|         T0006|       C020|      P005|in-store|2025-01-23|       5|    183.51|               1|\n|         T0007|       C007|      P018|     web|2025-03-18|       1|    304.99|               0|\n|         T0008|       C037|      P008|in-store|2025-02-27|       3|    382.67|               0|\n|         T0009|       C013|      P007|  mobile|2025-01-15|       3|    190.35|               1|\n|         T0010|       C032|      P015|  mobile|2025-03-04|       2|     408.4|               0|\n|         T0011|       C008|      P001|in-store|2025-06-17|       2|    159.33|               0|\n|         T0012|       C041|      P020|  mobile|2025-01-10|       4|    147.27|               1|\n|         T0013|       C006|      P012|  mobile|2025-04-12|       1|    174.08|               1|\n|         T0014|       C022|      P020|in-store|2025-07-04|       1|    147.27|               1|\n|         T0015|       C027|      P020|     web|2025-05-14|       3|    147.27|               0|\n|         T0016|       C014|      P001|     web|2025-02-18|       2|    159.33|               1|\n|         T0017|       C021|      P011|     web|2025-04-20|       3|    174.13|               1|\n|         T0018|       C002|      P019|in-store|2025-03-05|       4|     47.57|               1|\n|         T0019|       C028|      P009|  mobile|2025-05-11|       2|     350.8|               0|\n|         T0020|       C036|      P014|in-store|2025-01-11|       3|    275.09|               0|\n+--------------+-----------+----------+--------+----------+--------+----------+----------------+\nonly showing top 20 rows\n\n"
     ]
    }
   ],
   "source": [
    "# Replace these with your values\n",
    "storage_account_name = \"apaarblob2\"\n",
    "container_name = \"project\"\n",
    "\n",
    "sas_token = \"sp=r&st=2025-07-10T11:14:06Z&se=2025-07-10T19:14:06Z&spr=https&sv=2024-11-04&sr=c&sig=ej%2Be2KFI7n9fNaD1Z8OAfReYmKsDdFVuVd%2Bl07Bd%2FSI%3D\"\n",
    "\n",
    "\n",
    "file_path = f\"wasbs://{container_name}@{storage_account_name}.blob.core.windows.net/csv_files/transactions.csv\"\n",
    "\n",
    "\n",
    "spark.conf.set(\n",
    "  f\"fs.azure.sas.{container_name}.{storage_account_name}.blob.core.windows.net\",\n",
    "  sas_token\n",
    ")\n",
    "\n",
    "\n",
    "product_df = spark.read.option(\"header\", \"true\").option(\"inferSchema\", \"true\") \\\n",
    "    .csv(f\"wasbs://{container_name}@{storage_account_name}.blob.core.windows.net/csv_files/products.csv\")\n",
    "product_df.show()\n",
    "\n",
    "transactions_df = spark.read.option(\"header\", True).csv(file_path)\n",
    "transactions_df.show()\n"
   ]
  },
  {
   "cell_type": "markdown",
   "metadata": {
    "application/vnd.databricks.v1+cell": {
     "cellMetadata": {
      "byteLimit": 2048000,
      "rowLimit": 10000
     },
     "inputWidgets": {},
     "nuid": "08bbc94a-c881-4ece-aff3-93bd66178f33",
     "showTitle": false,
     "tableResultSettingsMap": {},
     "title": ""
    }
   },
   "source": [
    "## Schema Validation"
   ]
  },
  {
   "cell_type": "code",
   "execution_count": 0,
   "metadata": {
    "application/vnd.databricks.v1+cell": {
     "cellMetadata": {
      "byteLimit": 2048000,
      "rowLimit": 10000
     },
     "inputWidgets": {},
     "nuid": "d202ec5e-b528-4900-aefd-ba5a6a4ec53d",
     "showTitle": false,
     "tableResultSettingsMap": {},
     "title": ""
    }
   },
   "outputs": [
    {
     "output_type": "stream",
     "name": "stdout",
     "output_type": "stream",
     "text": [
      "All columns are present in the files.\n"
     ]
    }
   ],
   "source": [
    "expected_columns_transactions = [\n",
    "    'product_id', 'transaction_id', 'customer_id', 'channel', 'order_date',\n",
    "    'quantity', 'unit_price', 'campaign_applied',\n",
    "]\n",
    "\n",
    "expected_columns_products = [ 'product_name', 'category',\n",
    "    'price', 'description'\n",
    "]\n",
    "\n",
    "missing_cols_transactions = [col for col in expected_columns_transactions if col not in transactions_df.columns]\n",
    "\n",
    "missing_cols_products = [col for col in expected_columns_products if col not in product_df.columns]\n",
    "\n",
    "miss=0\n",
    "\n",
    "if missing_cols_transactions:\n",
    "\n",
    "    print(\"These columns are missing from the transactions DataFrame:\", missing_cols_transactions)\n",
    "    miss=1\n",
    "\n",
    "if missing_cols_products:\n",
    "    print(\"These columns are missing from the products DataFrame:\", missing_cols_products)\n",
    "    miss=1\n",
    "\n",
    "if not miss:\n",
    "    print(\"All columns are present in the files.\")"
   ]
  },
  {
   "cell_type": "markdown",
   "metadata": {
    "application/vnd.databricks.v1+cell": {
     "cellMetadata": {
      "byteLimit": 2048000,
      "rowLimit": 10000
     },
     "inputWidgets": {},
     "nuid": "900a2a52-2c61-4f6a-921f-35e999369176",
     "showTitle": false,
     "tableResultSettingsMap": {},
     "title": ""
    }
   },
   "source": [
    "### Combining product with the transaction file"
   ]
  },
  {
   "cell_type": "code",
   "execution_count": 0,
   "metadata": {
    "application/vnd.databricks.v1+cell": {
     "cellMetadata": {
      "byteLimit": 2048000,
      "rowLimit": 10000
     },
     "collapsed": true,
     "inputWidgets": {},
     "nuid": "cc9d6cf9-8cab-41f1-bd76-0ea77fc9a5bc",
     "showTitle": false,
     "tableResultSettingsMap": {},
     "title": ""
    }
   },
   "outputs": [],
   "source": [
    "combined_df = transactions_df.join(product_df, on=\"product_id\", how=\"left\")"
   ]
  },
  {
   "cell_type": "markdown",
   "metadata": {
    "application/vnd.databricks.v1+cell": {
     "cellMetadata": {
      "byteLimit": 2048000,
      "rowLimit": 10000
     },
     "inputWidgets": {},
     "nuid": "5b52d9c5-b708-464a-b64f-b66a8248ab4e",
     "showTitle": false,
     "tableResultSettingsMap": {},
     "title": ""
    }
   },
   "source": [
    "### Checking Data Quality"
   ]
  },
  {
   "cell_type": "markdown",
   "metadata": {
    "application/vnd.databricks.v1+cell": {
     "cellMetadata": {
      "byteLimit": 2048000,
      "rowLimit": 10000
     },
     "inputWidgets": {},
     "nuid": "6939c4d0-61b6-45f7-8ae3-a94eae029bcb",
     "showTitle": false,
     "tableResultSettingsMap": {},
     "title": ""
    }
   },
   "source": [
    "Null count per column"
   ]
  },
  {
   "cell_type": "code",
   "execution_count": 0,
   "metadata": {
    "application/vnd.databricks.v1+cell": {
     "cellMetadata": {
      "byteLimit": 2048000,
      "rowLimit": 10000
     },
     "inputWidgets": {},
     "nuid": "14d7b88c-6e53-4b3d-8300-dc43794a80da",
     "showTitle": false,
     "tableResultSettingsMap": {},
     "title": ""
    }
   },
   "outputs": [
    {
     "output_type": "stream",
     "name": "stdout",
     "output_type": "stream",
     "text": [
      "+----------------+--------------------+-----------------+-------------+----------------+--------------+----------------+----------------------+------------------+--------------+-----------+-----------------+\n|product_id_nulls|transaction_id_nulls|customer_id_nulls|channel_nulls|order_date_nulls|quantity_nulls|unit_price_nulls|campaign_applied_nulls|product_name_nulls|category_nulls|price_nulls|description_nulls|\n+----------------+--------------------+-----------------+-------------+----------------+--------------+----------------+----------------------+------------------+--------------+-----------+-----------------+\n|               0|                   0|                0|            0|               0|             0|               0|                     0|                 0|             0|          0|                0|\n+----------------+--------------------+-----------------+-------------+----------------+--------------+----------------+----------------------+------------------+--------------+-----------+-----------------+\n\n"
     ]
    }
   ],
   "source": [
    "combined_df.select([\n",
    "    count(when(col(c).isNull() | isnan(c), c)).alias(c + \"_nulls\")\n",
    "    for c in combined_df.columns\n",
    "]).show()"
   ]
  },
  {
   "cell_type": "markdown",
   "metadata": {
    "application/vnd.databricks.v1+cell": {
     "cellMetadata": {
      "byteLimit": 2048000,
      "rowLimit": 10000
     },
     "inputWidgets": {},
     "nuid": "5c6634c8-d66d-4a8f-bc69-f14f2cb699c4",
     "showTitle": false,
     "tableResultSettingsMap": {},
     "title": ""
    }
   },
   "source": [
    "Outlier Detection"
   ]
  },
  {
   "cell_type": "code",
   "execution_count": 0,
   "metadata": {
    "application/vnd.databricks.v1+cell": {
     "cellMetadata": {
      "byteLimit": 2048000,
      "rowLimit": 10000
     },
     "inputWidgets": {},
     "nuid": "8ef5aa0e-322b-4ad1-82f0-06a0379c6e7e",
     "showTitle": false,
     "tableResultSettingsMap": {},
     "title": ""
    }
   },
   "outputs": [
    {
     "output_type": "stream",
     "name": "stdout",
     "output_type": "stream",
     "text": [
      "+----------+--------------+-----------+-------+----------+--------+----------+----------------+------------+--------+-----+-----------+-----------+\n|product_id|transaction_id|customer_id|channel|order_date|quantity|unit_price|campaign_applied|product_name|category|price|description|order_value|\n+----------+--------------+-----------+-------+----------+--------+----------+----------------+------------+--------+-----+-----------+-----------+\n+----------+--------------+-----------+-------+----------+--------+----------+----------------+------------+--------+-----+-----------+-----------+\n\n"
     ]
    }
   ],
   "source": [
    "combined_df = combined_df.withColumn(\"order_value\", col(\"quantity\") * col(\"unit_price\"))\n",
    "\n",
    "# Compute mean and stddev of order_value\n",
    "stats = combined_df.select(mean(\"order_value\"), stddev(\"order_value\")).first()\n",
    "mean_val = stats[0]\n",
    "stddev_val = stats[1]\n",
    "\n",
    "# Detect outliers using z-score\n",
    "zscore_outliers = combined_df.filter(\n",
    "    (col(\"order_value\") > mean_val + 3 * stddev_val) |\n",
    "    (col(\"order_value\") < mean_val - 3 * stddev_val)\n",
    ")\n",
    "\n",
    "zscore_outliers.show()\n"
   ]
  },
  {
   "cell_type": "markdown",
   "metadata": {
    "application/vnd.databricks.v1+cell": {
     "cellMetadata": {
      "byteLimit": 2048000,
      "rowLimit": 10000
     },
     "inputWidgets": {},
     "nuid": "96af9166-fed3-432d-8378-eeb5a59b6a47",
     "showTitle": false,
     "tableResultSettingsMap": {},
     "title": ""
    }
   },
   "source": [
    "## Data Analysis"
   ]
  },
  {
   "cell_type": "markdown",
   "metadata": {
    "application/vnd.databricks.v1+cell": {
     "cellMetadata": {
      "byteLimit": 2048000,
      "rowLimit": 10000
     },
     "inputWidgets": {},
     "nuid": "faa1580d-7b19-43a9-8a24-5d08a4b174fe",
     "showTitle": false,
     "tableResultSettingsMap": {},
     "title": ""
    }
   },
   "source": [
    "Average Order Value Per Customer"
   ]
  },
  {
   "cell_type": "code",
   "execution_count": 0,
   "metadata": {
    "application/vnd.databricks.v1+cell": {
     "cellMetadata": {
      "byteLimit": 2048000,
      "rowLimit": 10000
     },
     "inputWidgets": {},
     "nuid": "8f7fe3db-e707-4080-9691-650e9aec4594",
     "showTitle": false,
     "tableResultSettingsMap": {},
     "title": ""
    }
   },
   "outputs": [
    {
     "output_type": "stream",
     "name": "stdout",
     "output_type": "stream",
     "text": [
      "+-----------+------------------+\n|customer_id|   avg_order_value|\n+-----------+------------------+\n|       C006| 548.4466666666667|\n|       C010|           911.135|\n|       C038|           886.198|\n|       C031|           913.625|\n|       C044| 611.0274999999999|\n|       C007|            805.86|\n|       C042| 893.3766666666667|\n|       C018|             884.8|\n|       C040|           2213.05|\n|       C029|            348.26|\n|       C032| 922.7149999999998|\n|       C043| 805.4124999999999|\n|       C025|1226.3220000000001|\n|       C030|1115.0266666666666|\n|       C012| 585.1840000000001|\n|       C048| 590.0333333333334|\n|       C049|1114.3957142857143|\n|       C050|           811.962|\n|       C023|          1115.095|\n|       C003|            483.98|\n+-----------+------------------+\nonly showing top 20 rows\n\n"
     ]
    }
   ],
   "source": [
    "avg_order_value = combined_df.groupBy(\"customer_id\") \\\n",
    "    .agg(avg(\"order_value\").alias(\"avg_order_value\"))\n",
    "\n",
    "avg_order_value.show()"
   ]
  },
  {
   "cell_type": "markdown",
   "metadata": {
    "application/vnd.databricks.v1+cell": {
     "cellMetadata": {
      "byteLimit": 2048000,
      "rowLimit": 10000
     },
     "inputWidgets": {},
     "nuid": "4a931e7c-11db-4d17-a1d1-58857f6810a8",
     "showTitle": false,
     "tableResultSettingsMap": {},
     "title": ""
    }
   },
   "source": [
    "Top 10 Popular Products"
   ]
  },
  {
   "cell_type": "code",
   "execution_count": 0,
   "metadata": {
    "application/vnd.databricks.v1+cell": {
     "cellMetadata": {
      "byteLimit": 2048000,
      "rowLimit": 10000
     },
     "inputWidgets": {},
     "nuid": "6ec131fb-d685-49d9-91b0-c10e943b50f0",
     "showTitle": false,
     "tableResultSettingsMap": {},
     "title": ""
    }
   },
   "outputs": [
    {
     "output_type": "stream",
     "name": "stdout",
     "output_type": "stream",
     "text": [
      "+------------+--------------+\n|product_name|purchase_count|\n+------------+--------------+\n|       After|            18|\n|     Citizen|            16|\n|       Occur|            15|\n|         Win|            13|\n|    Business|            13|\n|       Power|            12|\n|         Yes|            12|\n|       Movie|            11|\n|   Beautiful|            11|\n|Organization|            10|\n+------------+--------------+\n\n"
     ]
    }
   ],
   "source": [
    "popular_products_df = combined_df.groupBy(\"product_name\") \\\n",
    "    .agg(count(\"transaction_id\").alias(\"purchase_count\")) \\\n",
    "    .orderBy(desc(\"purchase_count\")) \\\n",
    "    .limit(10)\n",
    "\n",
    "popular_products_df.show()"
   ]
  },
  {
   "cell_type": "markdown",
   "metadata": {
    "application/vnd.databricks.v1+cell": {
     "cellMetadata": {
      "byteLimit": 2048000,
      "rowLimit": 10000
     },
     "inputWidgets": {},
     "nuid": "a381aee9-0a99-45ca-bf5b-c2c067820483",
     "showTitle": false,
     "tableResultSettingsMap": {},
     "title": ""
    }
   },
   "source": [
    "Sales by category"
   ]
  },
  {
   "cell_type": "code",
   "execution_count": 0,
   "metadata": {
    "application/vnd.databricks.v1+cell": {
     "cellMetadata": {
      "byteLimit": 2048000,
      "rowLimit": 10000
     },
     "inputWidgets": {},
     "nuid": "811df85e-64b4-45a1-a246-0022f2fdafdf",
     "showTitle": false,
     "tableResultSettingsMap": {},
     "title": ""
    }
   },
   "outputs": [
    {
     "output_type": "stream",
     "name": "stdout",
     "output_type": "stream",
     "text": [
      "+--------------+------------------+\n|      category|       total_sales|\n+--------------+------------------+\n|       Apparel| 43969.35999999999|\n|   Electronics|           41922.9|\n|Home & Kitchen|          38638.84|\n|         Books|36975.340000000004|\n+--------------+------------------+\n\n"
     ]
    }
   ],
   "source": [
    "category_sales_df = combined_df.groupBy(\"category\") \\\n",
    "    .agg(sum(\"order_value\").alias(\"total_sales\")) \\\n",
    "    .orderBy(desc(\"total_sales\"))\n",
    "\n",
    "category_sales_df.show()"
   ]
  },
  {
   "cell_type": "markdown",
   "metadata": {
    "application/vnd.databricks.v1+cell": {
     "cellMetadata": {
      "byteLimit": 2048000,
      "rowLimit": 10000
     },
     "inputWidgets": {},
     "nuid": "4df80ab0-f8b4-4920-a7f9-8b4639b897d7",
     "showTitle": false,
     "tableResultSettingsMap": {},
     "title": ""
    }
   },
   "source": [
    "Marketing Capaign Impact"
   ]
  },
  {
   "cell_type": "code",
   "execution_count": 0,
   "metadata": {
    "application/vnd.databricks.v1+cell": {
     "cellMetadata": {
      "byteLimit": 2048000,
      "rowLimit": 10000
     },
     "inputWidgets": {},
     "nuid": "8ada018b-9962-4508-9188-f9c950d93ef1",
     "showTitle": false,
     "tableResultSettingsMap": {},
     "title": ""
    }
   },
   "outputs": [
    {
     "output_type": "stream",
     "name": "stdout",
     "output_type": "stream",
     "text": [
      "+----------------+-----------------+\n|campaign_applied|      total_sales|\n+----------------+-----------------+\n|               0|82612.13999999997|\n|               1|78894.29999999999|\n+----------------+-----------------+\n\n"
     ]
    }
   ],
   "source": [
    "campaign_impact_df = combined_df.groupBy(\"campaign_applied\") \\\n",
    "    .agg(sum(\"order_value\").alias(\"total_sales\"))\n",
    "\n",
    "campaign_impact_df.show()\n"
   ]
  },
  {
   "cell_type": "markdown",
   "metadata": {
    "application/vnd.databricks.v1+cell": {
     "cellMetadata": {
      "byteLimit": 2048000,
      "rowLimit": 10000
     },
     "inputWidgets": {},
     "nuid": "603f7bbb-1894-4dc3-9755-19345a19820b",
     "showTitle": false,
     "tableResultSettingsMap": {},
     "title": ""
    }
   },
   "source": [
    "Sales By Channels"
   ]
  },
  {
   "cell_type": "code",
   "execution_count": 0,
   "metadata": {
    "application/vnd.databricks.v1+cell": {
     "cellMetadata": {
      "byteLimit": 2048000,
      "rowLimit": 10000
     },
     "inputWidgets": {},
     "nuid": "c62c95b7-d58d-4ecc-ae71-6bf1a07e9f8c",
     "showTitle": false,
     "tableResultSettingsMap": {},
     "title": ""
    }
   },
   "outputs": [
    {
     "output_type": "stream",
     "name": "stdout",
     "output_type": "stream",
     "text": [
      "+--------+------------------+\n| channel|     channel_sales|\n+--------+------------------+\n|  mobile| 50720.76999999999|\n|in-store|56645.249999999985|\n|     web|          54140.42|\n+--------+------------------+\n\n"
     ]
    }
   ],
   "source": [
    "channel_sales_df = combined_df.groupBy(\"channel\") \\\n",
    "    .agg(sum(\"order_value\").alias(\"channel_sales\"))\n",
    "\n",
    "channel_sales_df.show()"
   ]
  },
  {
   "cell_type": "markdown",
   "metadata": {
    "application/vnd.databricks.v1+cell": {
     "cellMetadata": {
      "byteLimit": 2048000,
      "rowLimit": 10000
     },
     "inputWidgets": {},
     "nuid": "370e2295-2997-43a8-9cf9-d8526e741639",
     "showTitle": false,
     "tableResultSettingsMap": {},
     "title": ""
    }
   },
   "source": [
    "# Delta table and optimizing data storage"
   ]
  },
  {
   "cell_type": "markdown",
   "metadata": {
    "application/vnd.databricks.v1+cell": {
     "cellMetadata": {
      "byteLimit": 2048000,
      "rowLimit": 10000
     },
     "inputWidgets": {},
     "nuid": "249216f7-fe8d-4d4b-b5e2-18362212b34e",
     "showTitle": false,
     "tableResultSettingsMap": {},
     "title": ""
    }
   },
   "source": [
    "Save analysis as delta table"
   ]
  },
  {
   "cell_type": "code",
   "execution_count": 0,
   "metadata": {
    "application/vnd.databricks.v1+cell": {
     "cellMetadata": {
      "byteLimit": 2048000,
      "rowLimit": 10000
     },
     "inputWidgets": {},
     "nuid": "f69b98ef-ff9b-4b86-8c91-339682a1d29c",
     "showTitle": false,
     "tableResultSettingsMap": {},
     "title": ""
    }
   },
   "outputs": [
    {
     "output_type": "stream",
     "name": "stdout",
     "output_type": "stream",
     "text": [
      "Saved Delta table: avg_order_value\nSaved Delta table: popular_products\nSaved Delta table: category_sales\nSaved Delta table: campaign_impact\nSaved Delta table: channel_sales\n"
     ]
    }
   ],
   "source": [
    "def save_as_delta_tables(df_table_list):\n",
    "    for df, table_name in df_table_list:\n",
    "        df.write.format(\"delta\").mode(\"overwrite\").saveAsTable(table_name)\n",
    "        print(f\"Saved Delta table: {table_name}\")\n",
    "\n",
    "save_as_delta_tables([\n",
    "    (avg_order_value, \"avg_order_value\"),\n",
    "    (popular_products_df, \"popular_products\"),\n",
    "    (category_sales_df, \"category_sales\"),\n",
    "    (campaign_impact_df, \"campaign_impact\"),\n",
    "    (channel_sales_df, \"channel_sales\")\n",
    "])"
   ]
  },
  {
   "cell_type": "markdown",
   "metadata": {
    "application/vnd.databricks.v1+cell": {
     "cellMetadata": {
      "byteLimit": 2048000,
      "rowLimit": 10000
     },
     "inputWidgets": {},
     "nuid": "0bad42b7-af2a-46c5-bd7c-4645bcb0ae85",
     "showTitle": false,
     "tableResultSettingsMap": {},
     "title": ""
    }
   },
   "source": [
    "Optmizing Data Storage"
   ]
  },
  {
   "cell_type": "code",
   "execution_count": 0,
   "metadata": {
    "application/vnd.databricks.v1+cell": {
     "cellMetadata": {
      "byteLimit": 2048000,
      "rowLimit": 10000
     },
     "inputWidgets": {},
     "nuid": "e825b9c1-79e6-4b5c-827b-9f17d60a60b0",
     "showTitle": false,
     "tableResultSettingsMap": {},
     "title": ""
    }
   },
   "outputs": [
    {
     "output_type": "stream",
     "name": "stdout",
     "output_type": "stream",
     "text": [
      "+-------+-------------------+---------------+--------------------+---------------------------------+--------------------------------------------------------------------------------------------------------------------------------------------------------+----+------------------+--------------------+-----------+-----------------+-------------+------------------------------------------------------------+------------+------------------------------------------+\n|version|timestamp          |userId         |userName            |operation                        |operationParameters                                                                                                                                     |job |notebook          |clusterId           |readVersion|isolationLevel   |isBlindAppend|operationMetrics                                            |userMetadata|engineInfo                                |\n+-------+-------------------+---------------+--------------------+---------------------------------+--------------------------------------------------------------------------------------------------------------------------------------------------------+----+------------------+--------------------+-----------+-----------------+-------------+------------------------------------------------------------+------------+------------------------------------------+\n|5      |2025-07-10 12:01:47|149325256093266|apaarraina@gmail.com|CREATE OR REPLACE TABLE AS SELECT|{partitionBy -> [], clusterBy -> [], description -> NULL, isManaged -> true, properties -> {\"delta.enableDeletionVectors\":\"true\"}, statsOnLoad -> false}|NULL|{4240105692443378}|0708-132021-tlzs8tmy|4          |WriteSerializable|false        |{numFiles -> 1, numOutputRows -> 49, numOutputBytes -> 1425}|NULL        |Databricks-Runtime/15.4.x-photon-scala2.12|\n|4      |2025-07-10 11:51:07|149325256093266|apaarraina@gmail.com|CREATE OR REPLACE TABLE AS SELECT|{partitionBy -> [], clusterBy -> [], description -> NULL, isManaged -> true, properties -> {\"delta.enableDeletionVectors\":\"true\"}, statsOnLoad -> false}|NULL|{4240105692443378}|0708-132021-tlzs8tmy|3          |WriteSerializable|false        |{numFiles -> 1, numOutputRows -> 49, numOutputBytes -> 1425}|NULL        |Databricks-Runtime/15.4.x-photon-scala2.12|\n|3      |2025-07-09 19:03:55|149325256093266|apaarraina@gmail.com|CREATE OR REPLACE TABLE AS SELECT|{partitionBy -> [], clusterBy -> [], description -> NULL, isManaged -> true, properties -> {\"delta.enableDeletionVectors\":\"true\"}, statsOnLoad -> false}|NULL|{4240105692443378}|0708-132021-tlzs8tmy|2          |WriteSerializable|false        |{numFiles -> 1, numOutputRows -> 49, numOutputBytes -> 1425}|NULL        |Databricks-Runtime/15.4.x-photon-scala2.12|\n|2      |2025-07-09 18:23:34|149325256093266|apaarraina@gmail.com|CREATE OR REPLACE TABLE AS SELECT|{partitionBy -> [], clusterBy -> [], description -> NULL, isManaged -> true, properties -> {\"delta.enableDeletionVectors\":\"true\"}, statsOnLoad -> false}|NULL|{4240105692443378}|0708-132021-tlzs8tmy|1          |WriteSerializable|false        |{numFiles -> 1, numOutputRows -> 49, numOutputBytes -> 1425}|NULL        |Databricks-Runtime/15.4.x-photon-scala2.12|\n|1      |2025-07-09 18:10:41|149325256093266|apaarraina@gmail.com|CREATE OR REPLACE TABLE AS SELECT|{partitionBy -> [], clusterBy -> [], description -> NULL, isManaged -> true, properties -> {\"delta.enableDeletionVectors\":\"true\"}, statsOnLoad -> false}|NULL|{4240105692443378}|0708-132021-tlzs8tmy|0          |WriteSerializable|false        |{numFiles -> 1, numOutputRows -> 49, numOutputBytes -> 1425}|NULL        |Databricks-Runtime/15.4.x-photon-scala2.12|\n|0      |2025-07-08 14:03:56|149325256093266|apaarraina@gmail.com|CREATE OR REPLACE TABLE AS SELECT|{partitionBy -> [], clusterBy -> [], description -> NULL, isManaged -> true, properties -> {\"delta.enableDeletionVectors\":\"true\"}, statsOnLoad -> false}|NULL|{4240105692443378}|0708-132021-tlzs8tmy|NULL       |WriteSerializable|false        |{numFiles -> 1, numOutputRows -> 49, numOutputBytes -> 1425}|NULL        |Databricks-Runtime/15.4.x-photon-scala2.12|\n+-------+-------------------+---------------+--------------------+---------------------------------+--------------------------------------------------------------------------------------------------------------------------------------------------------+----+------------------+--------------------+-----------+-----------------+-------------+------------------------------------------------------------+------------+------------------------------------------+\n\n"
     ]
    }
   ],
   "source": [
    "spark.sql(\"OPTIMIZE avg_order_value\")\n",
    "spark.sql(\"OPTIMIZE popular_products\")\n",
    "spark.sql(\"OPTIMIZE category_sales\")\n",
    "spark.sql(\"OPTIMIZE campaign_impact\")\n",
    "spark.sql(\"OPTIMIZE channel_sales\")\n",
    "\n",
    "spark.sql(\"DESCRIBE HISTORY avg_order_value\").show(truncate=False)\n"
   ]
  }
 ],
 "metadata": {
  "application/vnd.databricks.v1+notebook": {
   "computePreferences": null,
   "dashboards": [],
   "environmentMetadata": {
    "base_environment": "",
    "environment_version": "2"
   },
   "inputWidgetPreferences": null,
   "language": "python",
   "notebookMetadata": {
    "pythonIndentUnit": 4
   },
   "notebookName": "Project",
   "widgets": {}
  },
  "language_info": {
   "name": "python"
  }
 },
 "nbformat": 4,
 "nbformat_minor": 0
}